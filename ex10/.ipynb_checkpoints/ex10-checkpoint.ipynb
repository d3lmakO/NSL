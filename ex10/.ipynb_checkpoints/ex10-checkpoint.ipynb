{
 "cells": [
  {
   "cell_type": "markdown",
   "id": "04aaa0d9-99d7-46ae-a136-2ce002b1da07",
   "metadata": {},
   "source": [
    "Alberto Geroldi 968236\n",
    "# <span style=\"color:green\">Numerical simulation laboratory (NSL)</span>  \n",
    "# Exercise 10"
   ]
  },
  {
   "cell_type": "code",
   "execution_count": 2,
   "id": "45c44f45-50bc-4416-8796-1dee776953f2",
   "metadata": {},
   "outputs": [],
   "source": [
    "import matplotlib\n",
    "import matplotlib.pyplot as plt\n",
    "import numpy as np\n",
    "import math"
   ]
  },
  {
   "cell_type": "code",
   "execution_count": null,
   "id": "e7354278-8111-4692-94f8-6a47ce3cb6e4",
   "metadata": {},
   "outputs": [],
   "source": []
  }
 ],
 "metadata": {
  "kernelspec": {
   "display_name": "Python 3 (ipykernel)",
   "language": "python",
   "name": "python3"
  },
  "language_info": {
   "codemirror_mode": {
    "name": "ipython",
    "version": 3
   },
   "file_extension": ".py",
   "mimetype": "text/x-python",
   "name": "python",
   "nbconvert_exporter": "python",
   "pygments_lexer": "ipython3",
   "version": "3.10.8"
  }
 },
 "nbformat": 4,
 "nbformat_minor": 5
}
